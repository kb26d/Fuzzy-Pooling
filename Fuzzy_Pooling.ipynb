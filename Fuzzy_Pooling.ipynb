{
  "nbformat": 4,
  "nbformat_minor": 0,
  "metadata": {
    "colab": {
      "provenance": []
    },
    "kernelspec": {
      "name": "python3",
      "display_name": "Python 3"
    },
    "language_info": {
      "name": "python"
    }
  },
  "cells": [
    {
      "cell_type": "code",
      "source": [
        "import tensorflow as tf"
      ],
      "metadata": {
        "id": "0--8aaPy316S"
      },
      "execution_count": null,
      "outputs": []
    },
    {
      "cell_type": "code",
      "source": [
        "# three triangular membership functions\n",
        "def membership_small(x, c=1.0, d=3.0):\n",
        "  return tf.maximum(0.0, tf.minimum(1.0, (d-x)/(d-c)))\n",
        "\n",
        "def membership_medium(x, a=1.5, m=3.0, b=4.5):\n",
        "  return tf.maximum(0.0, tf.minimum((x-a)/(m-a), (b-x)/(b-m)))\n",
        "\n",
        "def membership_large (x, r=3.0, q=4.5):\n",
        "  return tf.maximum(0.0, tf.minimum(1.0, (x-r)/(q-r)))"
      ],
      "metadata": {
        "id": "65eQ_ZtB4BJf"
      },
      "execution_count": null,
      "outputs": []
    },
    {
      "cell_type": "code",
      "source": [
        "# fuzzy pooling operation\n",
        "def fuzzy_pooling(input_tensor, ksize=2, stride=2):\n",
        "    # extract patches from input tensor\n",
        "    patches = tf.image.extract_patches(\n",
        "        images=input_tensor,\n",
        "        sizes=[1, ksize, ksize, 1],\n",
        "        strides=[1, stride, stride, 1],\n",
        "        rates=[1, 1, 1, 1],\n",
        "        padding='VALID'\n",
        "    )\n",
        "    batch_size = tf.shape(input_tensor)[0]\n",
        "    height = tf.shape(patches)[1]\n",
        "    width = tf.shape(patches)[2]\n",
        "    channels = tf.shape(input_tensor)[3]\n",
        "    patches = tf.reshape(patches, (batch_size, height, width, ksize, ksize, channels))\n",
        "\n",
        "    # apply fuzzy sets\n",
        "    small = membership_small(patches)\n",
        "    medium = membership_medium(patches)\n",
        "    large = membership_large(patches)\n",
        "\n",
        "    # fuzzy aggregation\n",
        "    small_score = tf.reduce_sum(small, axis=[3,4])\n",
        "    medium_score = tf.reduce_sum(medium, axis=[3,4])\n",
        "    large_score = tf.reduce_sum(large, axis=[3,4])\n",
        "\n",
        "    # defuzzification (using center of gravity)\n",
        "    defuzz_value = (tf.reduce_sum(small * patches, axis=[3, 4]) +\n",
        "                  tf.reduce_sum(medium * patches, axis=[3, 4]) +\n",
        "                  tf.reduce_sum(large * patches, axis=[3, 4])) / (small_score + medium_score + large_score + 1e-7)\n",
        "\n",
        "    return defuzz_value"
      ],
      "metadata": {
        "id": "2RxbDaVF5f_x"
      },
      "execution_count": null,
      "outputs": []
    },
    {
      "cell_type": "code",
      "source": [
        "# fuzzy pooling layer\n",
        "class FuzzyPoolingLayer(tf.keras.layers.Layer):\n",
        "    def __init__(self, pool_size=(2,2), strides=(2,2)):\n",
        "      super(FuzzyPoolingLayer, self).__init__()\n",
        "      self.pool_size = pool_size\n",
        "      self.strides = strides\n",
        "\n",
        "    def call(self, inputs):\n",
        "      return fuzzy_pooling(inputs, ksize=self.pool_size[0], stride=self.strides[0])"
      ],
      "metadata": {
        "id": "M2Rh7Hr28Em4"
      },
      "execution_count": null,
      "outputs": []
    },
    {
      "cell_type": "code",
      "source": [
        "# CNN model with fuzzy pooling layer\n",
        "def build_fuzzy_pooling_cnn(input_shape):\n",
        "    model = tf.keras.Sequential([\n",
        "        tf.keras.layers.Conv2D(32, (3,3), activation='relu', input_shape=input_shape),\n",
        "        FuzzyPoolingLayer(pool_size=(2, 2)),\n",
        "        tf.keras.layers.Flatten(),\n",
        "        tf.keras.layers.Dense(10, activation='softmax')\n",
        "    ])\n",
        "\n",
        "    return model"
      ],
      "metadata": {
        "id": "2uTRXzG285Ah"
      },
      "execution_count": null,
      "outputs": []
    },
    {
      "cell_type": "code",
      "source": [
        "# load MNIST dataset\n",
        "(train_images_mnist, train_labels_mnist), (test_images_mnist, test_labels_mnist) = tf.keras.datasets.mnist.load_data()\n",
        "\n",
        "# preprocess data\n",
        "train_images_mnist = train_images_mnist.reshape((60000, 28, 28, 1)).astype('float32') / 255\n",
        "test_images_mnist = test_images_mnist.reshape((10000, 28, 28, 1)).astype('float32') / 255\n",
        "\n",
        "# build the model\n",
        "model_fuzzy = build_fuzzy_pooling_cnn((28, 28, 1))\n",
        "\n",
        "# compile the model\n",
        "model_fuzzy.compile(optimizer='adam', loss='sparse_categorical_crossentropy', metrics=['accuracy'])"
      ],
      "metadata": {
        "id": "Mvae7vAZGnA4"
      },
      "execution_count": null,
      "outputs": []
    },
    {
      "cell_type": "code",
      "source": [
        "# load MNIST dataset\n",
        "(train_images_mnist, train_labels_mnist), (test_images_mnist, test_labels_mnist) = tf.keras.datasets.mnist.load_data()\n",
        "\n",
        "# preprocess data\n",
        "train_images_mnist = train_images_mnist.reshape((60000, 28, 28, 1)).astype('float32') / 255\n",
        "test_images_mnist = test_images_mnist.reshape((10000, 28, 28, 1)).astype('float32') / 255\n",
        "\n",
        "# build the model\n",
        "model_fuzzy = build_fuzzy_pooling_cnn((28, 28, 1))\n",
        "\n",
        "# compile the model\n",
        "model_fuzzy.compile(optimizer='adam', loss='sparse_categorical_crossentropy', metrics=['accuracy'])\n",
        "\n",
        "# train the model\n",
        "model_fuzzy.fit(train_images_mnist, train_labels_mnist, epochs=5, batch_size=32)\n",
        "\n",
        "# evaluate on test data\n",
        "test_loss_fuzzy_mnist, test_acc_fuzzy_mnist = model_fuzzy.evaluate(test_images_mnist, test_labels_mnist)\n",
        "print('Test accuracy of fuzzy pooling on MNIST dataset:', test_acc_fuzzy_mnist)"
      ],
      "metadata": {
        "id": "oDJpeY1n9ZS7"
      },
      "execution_count": null,
      "outputs": []
    },
    {
      "cell_type": "code",
      "source": [
        "# CNN model with max pooling layer\n",
        "def build_max_pooling_2D_cnn(input_shape):\n",
        "    model = tf.keras.Sequential([\n",
        "        tf.keras.layers.Conv2D(32, (3, 3), activation='relu', input_shape=input_shape),\n",
        "        tf.keras.layers.MaxPooling2D(pool_size=(2, 2)),\n",
        "        tf.keras.layers.Flatten(),\n",
        "        tf.keras.layers.Dense(10, activation='softmax')\n",
        "    ])\n",
        "    return model\n",
        "\n",
        "# build the model\n",
        "model_max = build_max_pooling_2D_cnn((28, 28, 1))\n",
        "\n",
        "# compile the model\n",
        "model_max.compile(optimizer='adam', loss='sparse_categorical_crossentropy', metrics=['accuracy'])\n",
        "\n",
        "# train the model\n",
        "model_max.fit(train_images_mnist, train_labels_mnist, epochs=5, batch_size=32)\n",
        "\n",
        "# evaluate on test data\n",
        "test_loss_max_mnist, test_acc_max_mnist = model_max.evaluate(test_images_mnist, test_labels_mnist)\n",
        "print('Test accuracy of max pooling on MNIST dataset:', test_acc_max_mnist)\n",
        "\n"
      ],
      "metadata": {
        "id": "4GDq1fLvJizf"
      },
      "execution_count": null,
      "outputs": []
    },
    {
      "cell_type": "code",
      "source": [
        "# CNN model with average pooling layer\n",
        "def build_avg_pooling_cnn(input_shape):\n",
        "    model = tf.keras.Sequential([\n",
        "        tf.keras.layers.Conv2D(32, (3, 3), activation='relu', input_shape=input_shape),\n",
        "        tf.keras.layers.AveragePooling2D(pool_size=(2, 2)),\n",
        "        tf.keras.layers.Flatten(),\n",
        "        tf.keras.layers.Dense(10, activation='softmax')\n",
        "    ])\n",
        "    return model\n",
        "\n",
        "# build the model\n",
        "model_avg = build_avg_pooling_cnn((28, 28, 1))\n",
        "\n",
        "# compile the model\n",
        "model_avg.compile(optimizer='adam', loss='sparse_categorical_crossentropy', metrics=['accuracy'])\n",
        "\n",
        "# train the model\n",
        "model_avg.fit(train_images_mnist, train_labels_mnist, epochs=5, batch_size=32)\n",
        "\n",
        "# evaluate on test data\n",
        "test_loss_avg_mnist, test_acc_avg_mnist = model_avg.evaluate(test_images_mnist, test_labels_mnist)\n",
        "print('Test accuracy of average pooling on MNIST dataset:', test_acc_avg_mnist)\n"
      ],
      "metadata": {
        "id": "XcMmEdb_Ixah"
      },
      "execution_count": null,
      "outputs": []
    },
    {
      "cell_type": "code",
      "source": [
        "# load Fashion-MNIST\n",
        "(train_images_fmnist, train_labels_fmnist), (test_images_fmnist, test_labels_fmnist) = tf.keras.datasets.fashion_mnist.load_data()\n",
        "\n",
        "# preprocess data\n",
        "train_images_fmnist = train_images_fmnist.reshape((60000, 28, 28, 1)).astype('float32') / 255\n",
        "test_images_fmnist = test_images_fmnist.reshape((10000, 28, 28, 1)).astype('float32') / 255\n",
        "\n",
        "# train the model\n",
        "model_fuzzy.fit(train_images_fmnist, train_labels_fmnist, epochs=5, batch_size=32)\n",
        "\n",
        "# evaluate on test data\n",
        "test_loss_fuzzy_fmnist, test_acc_fuzzy_fmnist = model_fuzzy.evaluate(test_images_fmnist, test_labels_fmnist)\n",
        "print('Test accuracy of fuzzy pooling on Fashion-MNIST dataset:', test_acc_fuzzy_fmnist)"
      ],
      "metadata": {
        "id": "Yva2y3O3HGWs"
      },
      "execution_count": null,
      "outputs": []
    },
    {
      "cell_type": "code",
      "source": [
        "# train the model\n",
        "model_max.fit(train_images_fmnist, train_labels_fmnist, epochs=5, batch_size=32)\n",
        "\n",
        "# evaluate on test data\n",
        "test_loss_max_fmnist, test_acc_max_fmnist = model_max.evaluate(test_images_fmnist, test_labels_fmnist)\n",
        "print('Test accuracy of max pooling on Fashion-MNIST dataset:', test_acc_max_fmnist)"
      ],
      "metadata": {
        "id": "NNpvi-Zb3Vnb"
      },
      "execution_count": null,
      "outputs": []
    },
    {
      "cell_type": "code",
      "source": [
        "# train the model\n",
        "model_avg.fit(train_images_fmnist, train_labels_fmnist, epochs=5, batch_size=32)\n",
        "\n",
        "# evaluate on test data\n",
        "test_loss_avg_fmnist, test_acc_avg_fmnist = model_avg.evaluate(test_images_fmnist, test_labels_fmnist)\n",
        "print('Test accuracy of average pooling on Fashion-Mnist dataset:', test_acc_avg_fmnist)"
      ],
      "metadata": {
        "id": "8YL4hqGmlBRF"
      },
      "execution_count": null,
      "outputs": []
    },
    {
      "cell_type": "code",
      "source": [
        "# CNN model with fuzzy pooling layer for CIFAR-10\n",
        "def build_fuzzy_pooling_cnn(input_shape):\n",
        "    model = tf.keras.Sequential([\n",
        "        tf.keras.layers.Conv2D(32, (3, 3), activation='relu', input_shape=input_shape),\n",
        "        FuzzyPoolingLayer(pool_size=(2, 2)),  # first fuzzy pooling layer\n",
        "        tf.keras.layers.Conv2D(64, (3, 3), activation='relu'),\n",
        "        FuzzyPoolingLayer(pool_size=(2, 2)),  # second fuzzy pooling layer\n",
        "        tf.keras.layers.Conv2D(128, (3, 3), activation='relu'),\n",
        "        tf.keras.layers.Flatten(),\n",
        "        tf.keras.layers.Dense(128, activation='relu'),\n",
        "        tf.keras.layers.Dense(10, activation='softmax')\n",
        "    ])\n",
        "    return model\n",
        "\n",
        "# load CIFAR-10\n",
        "(train_images_cifar, train_labels_cifar), (test_images_cifar, test_labels_cifar) = tf.keras.datasets.cifar10.load_data()\n",
        "\n",
        "# preprocess data\n",
        "train_images_cifar = train_images_cifar.astype('float32') / 255.0\n",
        "test_images_cifar = test_images_cifar.astype('float32') / 255.0\n",
        "\n",
        "# build and compile the model\n",
        "model_fuzzy_cifar = build_fuzzy_pooling_cnn((32, 32, 3))\n",
        "model_fuzzy_cifar.compile(optimizer='adam', loss='sparse_categorical_crossentropy', metrics=['accuracy'])\n",
        "\n",
        "# train the model\n",
        "model_fuzzy_cifar.fit(train_images_cifar, train_labels_cifar, epochs=5, batch_size=32)\n",
        "\n",
        "# evaluate on test data\n",
        "test_loss_fuzzy_cifar, test_acc_fuzzy_cifar = model_fuzzy_cifar.evaluate(test_images_cifar, test_labels_cifar)\n",
        "print('Test accuracy of fuzzy pooling on CIFAR-10 dataset:', test_acc_fuzzy_cifar)\n"
      ],
      "metadata": {
        "id": "Qj8mN-srl2wN"
      },
      "execution_count": null,
      "outputs": []
    },
    {
      "cell_type": "code",
      "source": [
        "# CNN model with max pooling layer for CIFAR-10\n",
        "def build_avg_pooling_cnn(input_shape):\n",
        "    model = tf.keras.Sequential([\n",
        "        tf.keras.layers.Conv2D(32, (3, 3), activation='relu', input_shape=input_shape),\n",
        "        tf.keras.layers.MaxPooling2D(pool_size=(2, 2)),\n",
        "        tf.keras.layers.Flatten(),\n",
        "        tf.keras.layers.Dense(10, activation='softmax')\n",
        "    ])\n",
        "    return model\n",
        "\n",
        "# build and compile the model\n",
        "model_max_cifar = build_avg_pooling_cnn((32, 32, 3))\n",
        "model_max_cifar.compile(optimizer='adam', loss='sparse_categorical_crossentropy', metrics=['accuracy'])\n",
        "\n",
        "# train the model\n",
        "model_max_cifar.fit(train_images_cifar, train_labels_cifar, epochs=5, batch_size=32)\n",
        "\n",
        "# evaluate on test data\n",
        "test_loss_max_cifar, test_acc_max_cifar = model_max_cifar.evaluate(test_images_cifar, test_labels_cifar)\n",
        "print('Test accuracy of max pooling on CIFAR-10 dataset:', test_acc_max_cifar)\n"
      ],
      "metadata": {
        "id": "pKbyKQ9LkgIz"
      },
      "execution_count": null,
      "outputs": []
    },
    {
      "cell_type": "code",
      "source": [
        "# CNN model with average pooling layer for CIFAR-10\n",
        "def build_avg_pooling_cnn(input_shape):\n",
        "    model = tf.keras.Sequential([\n",
        "        tf.keras.layers.Conv2D(32, (3, 3), activation='relu', input_shape=input_shape),\n",
        "        tf.keras.layers.AveragePooling2D(pool_size=(2, 2)),\n",
        "        tf.keras.layers.Flatten(),\n",
        "        tf.keras.layers.Dense(10, activation='softmax')\n",
        "    ])\n",
        "    return model\n",
        "\n",
        "# build and compile the model\n",
        "model_avg_cifar = build_avg_pooling_cnn((32, 32, 3))\n",
        "model_avg_cifar.compile(optimizer='adam', loss='sparse_categorical_crossentropy', metrics=['accuracy'])\n",
        "\n",
        "# train the model\n",
        "model_avg_cifar.fit(train_images_cifar, train_labels_cifar, epochs=5, batch_size=32)\n",
        "\n",
        "# evaluate on test data\n",
        "test_loss_avg_cifar, test_acc_avg_cifar = model_avg_cifar.evaluate(test_images_cifar, test_labels_cifar)\n",
        "print('Test accuracy of average pooling on CIFAR-10 dataset:', test_acc_avg_cifar)\n"
      ],
      "metadata": {
        "id": "8RDpW9nhOuw_"
      },
      "execution_count": null,
      "outputs": []
    }
  ]
}